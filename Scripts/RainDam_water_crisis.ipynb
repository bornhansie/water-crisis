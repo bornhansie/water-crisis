{
 "cells": [
  {
   "cell_type": "code",
   "execution_count": 1,
   "metadata": {},
   "outputs": [],
   "source": [
    "import pandas as pd\n",
    "import pyodbc\n",
    "import seaborn as sns\n",
    "import matplotlib.pyplot as plt\n",
    "import numpy as np\n",
    "from sqlalchemy import create_engine\n",
    "import psycopg2 as pg\n",
    "from urllib.parse import quote_plus\n",
    "%matplotlib inline"
   ]
  },
  {
   "cell_type": "code",
   "execution_count": null,
   "metadata": {
    "collapsed": true,
    "hide_input": true
   },
   "outputs": [],
   "source": [
    "# Database connections\n",
    "username = input('Username for the rds ' )\n",
    "password = input('Password to the rds ' )\n",
    "server = input('Servername ' )\n",
    "conrds = pyodbc.connect(driver = '{ODBC Driver 13 for SQL Server}',\n",
    "                    server = str(server) +',1433',\n",
    "                    database = 'water_crisis_proc',\n",
    "                    user = str(username),\n",
    "                    password = str(password))\n",
    "\n",
    "conn =  'DRIVER={ODBC Driver 13 for SQL Server};gather-cpt-team-7.cnzbp4ndrpos.eu-west-1.rds.amazonaws.com;DATABASE=water_crisis_proc;UID='+username+';PWD='+password+''\n",
    "quoted = quote_plus(conn)\n",
    "new_con = 'mssql+pyodbc:///?odbc_connect={}'.format(quoted)\n",
    "engine = create_engine(new_con)"
   ]
  },
  {
   "cell_type": "code",
   "execution_count": 3,
   "metadata": {},
   "outputs": [],
   "source": [
    "rain_data = pd.read_sql('select * from RecordedRainfall', conrds)\n",
    "\n",
    "dam_levels = pd.read_sql('select * from DamLevels', conrds)\n",
    "\n",
    "rain_stations = pd.read_sql('select * from RainStations', conrds)\n",
    "\n",
    "supply_dams = pd.read_sql('select * from SupplyDams', conrds)"
   ]
  },
  {
   "cell_type": "code",
   "execution_count": 4,
   "metadata": {},
   "outputs": [],
   "source": [
    "rain_df = pd.merge(rain_data, rain_stations, how = 'inner', on ='rain_station_id')\n",
    "rain_df = rain_df[['date','precipitation', 'name', 'longitude', 'latitude']]"
   ]
  },
  {
   "cell_type": "code",
   "execution_count": 5,
   "metadata": {},
   "outputs": [
    {
     "data": {
      "text/html": [
       "<div>\n",
       "<style scoped>\n",
       "    .dataframe tbody tr th:only-of-type {\n",
       "        vertical-align: middle;\n",
       "    }\n",
       "\n",
       "    .dataframe tbody tr th {\n",
       "        vertical-align: top;\n",
       "    }\n",
       "\n",
       "    .dataframe thead th {\n",
       "        text-align: right;\n",
       "    }\n",
       "</style>\n",
       "<table border=\"1\" class=\"dataframe\">\n",
       "  <thead>\n",
       "    <tr style=\"text-align: right;\">\n",
       "      <th></th>\n",
       "      <th>date</th>\n",
       "      <th>precipitation</th>\n",
       "      <th>name</th>\n",
       "      <th>longitude</th>\n",
       "      <th>latitude</th>\n",
       "    </tr>\n",
       "  </thead>\n",
       "  <tbody>\n",
       "    <tr>\n",
       "      <th>0</th>\n",
       "      <td>1974-10-01</td>\n",
       "      <td>0.0</td>\n",
       "      <td>ASSEGAAIBOS</td>\n",
       "      <td>19.06605</td>\n",
       "      <td>-33.94175</td>\n",
       "    </tr>\n",
       "    <tr>\n",
       "      <th>1</th>\n",
       "      <td>1974-11-01</td>\n",
       "      <td>0.0</td>\n",
       "      <td>ASSEGAAIBOS</td>\n",
       "      <td>19.06605</td>\n",
       "      <td>-33.94175</td>\n",
       "    </tr>\n",
       "    <tr>\n",
       "      <th>2</th>\n",
       "      <td>1974-12-01</td>\n",
       "      <td>0.0</td>\n",
       "      <td>ASSEGAAIBOS</td>\n",
       "      <td>19.06605</td>\n",
       "      <td>-33.94175</td>\n",
       "    </tr>\n",
       "    <tr>\n",
       "      <th>3</th>\n",
       "      <td>1975-01-01</td>\n",
       "      <td>48.4</td>\n",
       "      <td>ASSEGAAIBOS</td>\n",
       "      <td>19.06605</td>\n",
       "      <td>-33.94175</td>\n",
       "    </tr>\n",
       "    <tr>\n",
       "      <th>4</th>\n",
       "      <td>1975-02-01</td>\n",
       "      <td>17.1</td>\n",
       "      <td>ASSEGAAIBOS</td>\n",
       "      <td>19.06605</td>\n",
       "      <td>-33.94175</td>\n",
       "    </tr>\n",
       "  </tbody>\n",
       "</table>\n",
       "</div>"
      ],
      "text/plain": [
       "         date  precipitation         name  longitude  latitude\n",
       "0  1974-10-01            0.0  ASSEGAAIBOS   19.06605 -33.94175\n",
       "1  1974-11-01            0.0  ASSEGAAIBOS   19.06605 -33.94175\n",
       "2  1974-12-01            0.0  ASSEGAAIBOS   19.06605 -33.94175\n",
       "3  1975-01-01           48.4  ASSEGAAIBOS   19.06605 -33.94175\n",
       "4  1975-02-01           17.1  ASSEGAAIBOS   19.06605 -33.94175"
      ]
     },
     "execution_count": 5,
     "metadata": {},
     "output_type": "execute_result"
    }
   ],
   "source": [
    "rain_df.head()"
   ]
  },
  {
   "cell_type": "code",
   "execution_count": 6,
   "metadata": {},
   "outputs": [],
   "source": [
    "storage_df = pd.merge(dam_levels, supply_dams, how = 'inner', on = 'supply_dam_id')\n",
    "storage_df = storage_df[['date',  'name','height', 'storage', 'total_dam_capacity', 'categories', 'longitude', 'latitude']]"
   ]
  },
  {
   "cell_type": "code",
   "execution_count": 7,
   "metadata": {},
   "outputs": [
    {
     "data": {
      "text/html": [
       "<div>\n",
       "<style scoped>\n",
       "    .dataframe tbody tr th:only-of-type {\n",
       "        vertical-align: middle;\n",
       "    }\n",
       "\n",
       "    .dataframe tbody tr th {\n",
       "        vertical-align: top;\n",
       "    }\n",
       "\n",
       "    .dataframe thead th {\n",
       "        text-align: right;\n",
       "    }\n",
       "</style>\n",
       "<table border=\"1\" class=\"dataframe\">\n",
       "  <thead>\n",
       "    <tr style=\"text-align: right;\">\n",
       "      <th></th>\n",
       "      <th>date</th>\n",
       "      <th>name</th>\n",
       "      <th>height</th>\n",
       "      <th>storage</th>\n",
       "      <th>total_dam_capacity</th>\n",
       "      <th>categories</th>\n",
       "      <th>longitude</th>\n",
       "      <th>latitude</th>\n",
       "    </tr>\n",
       "  </thead>\n",
       "  <tbody>\n",
       "    <tr>\n",
       "      <th>0</th>\n",
       "      <td>2012-01-01</td>\n",
       "      <td>WEMMERSHOEK</td>\n",
       "      <td>48.2</td>\n",
       "      <td>44621.0</td>\n",
       "      <td>58634</td>\n",
       "      <td>Major Dam</td>\n",
       "      <td>19.091828</td>\n",
       "      <td>-33.826246</td>\n",
       "    </tr>\n",
       "    <tr>\n",
       "      <th>1</th>\n",
       "      <td>2012-01-02</td>\n",
       "      <td>WEMMERSHOEK</td>\n",
       "      <td>48.2</td>\n",
       "      <td>44571.0</td>\n",
       "      <td>58634</td>\n",
       "      <td>Major Dam</td>\n",
       "      <td>19.091828</td>\n",
       "      <td>-33.826246</td>\n",
       "    </tr>\n",
       "    <tr>\n",
       "      <th>2</th>\n",
       "      <td>2012-01-03</td>\n",
       "      <td>WEMMERSHOEK</td>\n",
       "      <td>48.2</td>\n",
       "      <td>44471.0</td>\n",
       "      <td>58634</td>\n",
       "      <td>Major Dam</td>\n",
       "      <td>19.091828</td>\n",
       "      <td>-33.826246</td>\n",
       "    </tr>\n",
       "    <tr>\n",
       "      <th>3</th>\n",
       "      <td>2012-01-04</td>\n",
       "      <td>WEMMERSHOEK</td>\n",
       "      <td>48.1</td>\n",
       "      <td>44372.0</td>\n",
       "      <td>58634</td>\n",
       "      <td>Major Dam</td>\n",
       "      <td>19.091828</td>\n",
       "      <td>-33.826246</td>\n",
       "    </tr>\n",
       "    <tr>\n",
       "      <th>4</th>\n",
       "      <td>2012-01-05</td>\n",
       "      <td>WEMMERSHOEK</td>\n",
       "      <td>48.1</td>\n",
       "      <td>44322.0</td>\n",
       "      <td>58634</td>\n",
       "      <td>Major Dam</td>\n",
       "      <td>19.091828</td>\n",
       "      <td>-33.826246</td>\n",
       "    </tr>\n",
       "  </tbody>\n",
       "</table>\n",
       "</div>"
      ],
      "text/plain": [
       "         date         name  height  storage  total_dam_capacity categories  \\\n",
       "0  2012-01-01  WEMMERSHOEK    48.2  44621.0               58634  Major Dam   \n",
       "1  2012-01-02  WEMMERSHOEK    48.2  44571.0               58634  Major Dam   \n",
       "2  2012-01-03  WEMMERSHOEK    48.2  44471.0               58634  Major Dam   \n",
       "3  2012-01-04  WEMMERSHOEK    48.1  44372.0               58634  Major Dam   \n",
       "4  2012-01-05  WEMMERSHOEK    48.1  44322.0               58634  Major Dam   \n",
       "\n",
       "   longitude   latitude  \n",
       "0  19.091828 -33.826246  \n",
       "1  19.091828 -33.826246  \n",
       "2  19.091828 -33.826246  \n",
       "3  19.091828 -33.826246  \n",
       "4  19.091828 -33.826246  "
      ]
     },
     "execution_count": 7,
     "metadata": {},
     "output_type": "execute_result"
    }
   ],
   "source": [
    "storage_df.head()"
   ]
  },
  {
   "cell_type": "code",
   "execution_count": 8,
   "metadata": {},
   "outputs": [],
   "source": [
    "storage_df = storage_df[storage_df['storage'].notna()].copy()"
   ]
  },
  {
   "cell_type": "code",
   "execution_count": 9,
   "metadata": {},
   "outputs": [],
   "source": [
    "def dates(df):\n",
    "    df['date'] = df['date'].apply(lambda x: pd.to_datetime(x))\n",
    "    df['month'] = df['date'].dt.month\n",
    "    df['year'] = df['date'].dt.year"
   ]
  },
  {
   "cell_type": "code",
   "execution_count": 10,
   "metadata": {},
   "outputs": [],
   "source": [
    "dates(storage_df)\n",
    "dates(rain_df)"
   ]
  },
  {
   "cell_type": "code",
   "execution_count": 11,
   "metadata": {},
   "outputs": [
    {
     "data": {
      "text/html": [
       "<div>\n",
       "<style scoped>\n",
       "    .dataframe tbody tr th:only-of-type {\n",
       "        vertical-align: middle;\n",
       "    }\n",
       "\n",
       "    .dataframe tbody tr th {\n",
       "        vertical-align: top;\n",
       "    }\n",
       "\n",
       "    .dataframe thead th {\n",
       "        text-align: right;\n",
       "    }\n",
       "</style>\n",
       "<table border=\"1\" class=\"dataframe\">\n",
       "  <thead>\n",
       "    <tr style=\"text-align: right;\">\n",
       "      <th></th>\n",
       "      <th>date</th>\n",
       "      <th>name</th>\n",
       "      <th>height</th>\n",
       "      <th>storage</th>\n",
       "      <th>total_dam_capacity</th>\n",
       "      <th>categories</th>\n",
       "      <th>longitude</th>\n",
       "      <th>latitude</th>\n",
       "      <th>month</th>\n",
       "      <th>year</th>\n",
       "    </tr>\n",
       "  </thead>\n",
       "  <tbody>\n",
       "    <tr>\n",
       "      <th>0</th>\n",
       "      <td>2012-01-01</td>\n",
       "      <td>WEMMERSHOEK</td>\n",
       "      <td>48.2</td>\n",
       "      <td>44621.0</td>\n",
       "      <td>58634</td>\n",
       "      <td>Major Dam</td>\n",
       "      <td>19.091828</td>\n",
       "      <td>-33.826246</td>\n",
       "      <td>1</td>\n",
       "      <td>2012</td>\n",
       "    </tr>\n",
       "    <tr>\n",
       "      <th>1</th>\n",
       "      <td>2012-01-02</td>\n",
       "      <td>WEMMERSHOEK</td>\n",
       "      <td>48.2</td>\n",
       "      <td>44571.0</td>\n",
       "      <td>58634</td>\n",
       "      <td>Major Dam</td>\n",
       "      <td>19.091828</td>\n",
       "      <td>-33.826246</td>\n",
       "      <td>1</td>\n",
       "      <td>2012</td>\n",
       "    </tr>\n",
       "    <tr>\n",
       "      <th>2</th>\n",
       "      <td>2012-01-03</td>\n",
       "      <td>WEMMERSHOEK</td>\n",
       "      <td>48.2</td>\n",
       "      <td>44471.0</td>\n",
       "      <td>58634</td>\n",
       "      <td>Major Dam</td>\n",
       "      <td>19.091828</td>\n",
       "      <td>-33.826246</td>\n",
       "      <td>1</td>\n",
       "      <td>2012</td>\n",
       "    </tr>\n",
       "    <tr>\n",
       "      <th>3</th>\n",
       "      <td>2012-01-04</td>\n",
       "      <td>WEMMERSHOEK</td>\n",
       "      <td>48.1</td>\n",
       "      <td>44372.0</td>\n",
       "      <td>58634</td>\n",
       "      <td>Major Dam</td>\n",
       "      <td>19.091828</td>\n",
       "      <td>-33.826246</td>\n",
       "      <td>1</td>\n",
       "      <td>2012</td>\n",
       "    </tr>\n",
       "    <tr>\n",
       "      <th>4</th>\n",
       "      <td>2012-01-05</td>\n",
       "      <td>WEMMERSHOEK</td>\n",
       "      <td>48.1</td>\n",
       "      <td>44322.0</td>\n",
       "      <td>58634</td>\n",
       "      <td>Major Dam</td>\n",
       "      <td>19.091828</td>\n",
       "      <td>-33.826246</td>\n",
       "      <td>1</td>\n",
       "      <td>2012</td>\n",
       "    </tr>\n",
       "  </tbody>\n",
       "</table>\n",
       "</div>"
      ],
      "text/plain": [
       "        date         name  height  storage  total_dam_capacity categories  \\\n",
       "0 2012-01-01  WEMMERSHOEK    48.2  44621.0               58634  Major Dam   \n",
       "1 2012-01-02  WEMMERSHOEK    48.2  44571.0               58634  Major Dam   \n",
       "2 2012-01-03  WEMMERSHOEK    48.2  44471.0               58634  Major Dam   \n",
       "3 2012-01-04  WEMMERSHOEK    48.1  44372.0               58634  Major Dam   \n",
       "4 2012-01-05  WEMMERSHOEK    48.1  44322.0               58634  Major Dam   \n",
       "\n",
       "   longitude   latitude  month  year  \n",
       "0  19.091828 -33.826246      1  2012  \n",
       "1  19.091828 -33.826246      1  2012  \n",
       "2  19.091828 -33.826246      1  2012  \n",
       "3  19.091828 -33.826246      1  2012  \n",
       "4  19.091828 -33.826246      1  2012  "
      ]
     },
     "execution_count": 11,
     "metadata": {},
     "output_type": "execute_result"
    }
   ],
   "source": [
    "storage_df.head()"
   ]
  },
  {
   "cell_type": "code",
   "execution_count": 12,
   "metadata": {},
   "outputs": [],
   "source": [
    "def merging(df_x, df_y, group, column_x, column_y, shift = 0):\n",
    "    \n",
    "    x = df_x.groupby(group)[[column_x]].mean().shift()\n",
    "    y = df_y.groupby(group)[[column_y]].mean().diff()\n",
    "    merge = pd.merge(x,y,how = 'inner', on = group)\n",
    "    return merge"
   ]
  },
  {
   "cell_type": "code",
   "execution_count": 13,
   "metadata": {},
   "outputs": [],
   "source": [
    "merged = merging(rain_df, storage_df, 'month', 'precipitation', 'storage',1)"
   ]
  },
  {
   "cell_type": "code",
   "execution_count": 14,
   "metadata": {},
   "outputs": [
    {
     "data": {
      "text/plain": [
       "<seaborn.axisgrid.FacetGrid at 0x1ac1f919278>"
      ]
     },
     "execution_count": 14,
     "metadata": {},
     "output_type": "execute_result"
    },
    {
     "data": {
      "image/png": "[encoded data removed]",
      "text/plain": [
       "<Figure size 864x432 with 1 Axes>"
      ]
     },
     "metadata": {
      "needs_background": "light"
     },
     "output_type": "display_data"
    }
   ],
   "source": [
    "sns.lmplot(x = 'precipitation', y = 'storage', data = merged, height = 6, aspect = 2)\n",
    "#plt.savefig('fig.png')"
   ]
  },
  {
   "cell_type": "code",
   "execution_count": 15,
   "metadata": {},
   "outputs": [
    {
     "data": {
      "text/html": [
       "<div>\n",
       "<style scoped>\n",
       "    .dataframe tbody tr th:only-of-type {\n",
       "        vertical-align: middle;\n",
       "    }\n",
       "\n",
       "    .dataframe tbody tr th {\n",
       "        vertical-align: top;\n",
       "    }\n",
       "\n",
       "    .dataframe thead th {\n",
       "        text-align: right;\n",
       "    }\n",
       "</style>\n",
       "<table border=\"1\" class=\"dataframe\">\n",
       "  <thead>\n",
       "    <tr style=\"text-align: right;\">\n",
       "      <th></th>\n",
       "      <th>precipitation</th>\n",
       "      <th>storage</th>\n",
       "    </tr>\n",
       "    <tr>\n",
       "      <th>month</th>\n",
       "      <th></th>\n",
       "      <th></th>\n",
       "    </tr>\n",
       "  </thead>\n",
       "  <tbody>\n",
       "    <tr>\n",
       "      <th>1</th>\n",
       "      <td>NaN</td>\n",
       "      <td>NaN</td>\n",
       "    </tr>\n",
       "    <tr>\n",
       "      <th>2</th>\n",
       "      <td>25.229240</td>\n",
       "      <td>-5113.185530</td>\n",
       "    </tr>\n",
       "    <tr>\n",
       "      <th>3</th>\n",
       "      <td>22.651332</td>\n",
       "      <td>-4572.367466</td>\n",
       "    </tr>\n",
       "    <tr>\n",
       "      <th>4</th>\n",
       "      <td>31.671961</td>\n",
       "      <td>-3090.406593</td>\n",
       "    </tr>\n",
       "    <tr>\n",
       "      <th>5</th>\n",
       "      <td>73.819399</td>\n",
       "      <td>-1050.499823</td>\n",
       "    </tr>\n",
       "  </tbody>\n",
       "</table>\n",
       "</div>"
      ],
      "text/plain": [
       "       precipitation      storage\n",
       "month                            \n",
       "1                NaN          NaN\n",
       "2          25.229240 -5113.185530\n",
       "3          22.651332 -4572.367466\n",
       "4          31.671961 -3090.406593\n",
       "5          73.819399 -1050.499823"
      ]
     },
     "execution_count": 15,
     "metadata": {},
     "output_type": "execute_result"
    }
   ],
   "source": [
    "merged.head()"
   ]
  },
  {
   "cell_type": "code",
   "execution_count": 16,
   "metadata": {},
   "outputs": [],
   "source": [
    "def subplots_db(df, column_1,label_1, column_2, label_2,  title_):    \n",
    "    fig, ax = plt.subplots(figsize = [24,8])\n",
    "    plt.plot(df[column_1], label = label_1)\n",
    "    plt.legend(loc=2)\n",
    "    ax.tick_params('vals')\n",
    "\n",
    "    plt.gca().set_title(title_)\n",
    "\n",
    "    ax2 = ax.twinx()\n",
    "    plt.plot(df[column_2], 'orange', label = label_2)\n",
    "    plt.legend(loc=1)\n",
    "    ax.tick_params('vals')\n",
    "    #plt.savefig('water_storage_rain.png')"
   ]
  },
  {
   "cell_type": "code",
   "execution_count": 17,
   "metadata": {},
   "outputs": [
    {
     "data": {
      "image/png": "[encoded data removed]",
      "text/plain": [
       "<Figure size 1728x576 with 2 Axes>"
      ]
     },
     "metadata": {
      "needs_background": "light"
     },
     "output_type": "display_data"
    }
   ],
   "source": [
    "subplots_db(merged,'storage', 'Storage', 'precipitation', 'Rainfall', 'Correlation of rainfall and dam storage over time')"
   ]
  },
  {
   "cell_type": "code",
   "execution_count": 18,
   "metadata": {},
   "outputs": [],
   "source": [
    "def station_distance_to_dam(dam_name):\n",
    "       \n",
    "    df_ = {}\n",
    "    for i in rain_df['name']:    \n",
    "        delta_x = storage_df[storage_df['name'] == dam_name]['longitude'].values[0] - rain_df[rain_df['name'] == i]['longitude'].values[0]\n",
    "        delta_y = storage_df[storage_df['name'] == dam_name]['latitude'].values[0] - rain_df[rain_df['name'] == i]['latitude'].values[0]\n",
    "        df_.update({i:round(np.sqrt(delta_x**2 + delta_y**2),3)})\n",
    "    df = df_\n",
    "    \n",
    "    return df"
   ]
  },
  {
   "cell_type": "code",
   "execution_count": 19,
   "metadata": {},
   "outputs": [
    {
     "data": {
      "text/plain": [
       "{'ASSEGAAIBOS': 0.661,\n",
       " 'BERGDUMP': 1.287,\n",
       " 'CERES': 1.069,\n",
       " 'HAWEQWAS': 0.858,\n",
       " 'HIGGOVALE': 0.048,\n",
       " 'JONKERSHOEK': 0.543,\n",
       " 'KOGEL_BAAI': 0.486,\n",
       " 'KWAGGASKLOOF': 1.091,\n",
       " 'NEWLAND': 0.047,\n",
       " 'STEENBRAS LOWER': 0.5,\n",
       " 'TAFELBERG': 0.007,\n",
       " 'THEEWATERSKLOOF': 0.89,\n",
       " 'VOLELVLEI': 0.904,\n",
       " 'ZACHARIASHOEK': 0.673}"
      ]
     },
     "execution_count": 19,
     "metadata": {},
     "output_type": "execute_result"
    }
   ],
   "source": [
    "station_distance_to_dam(\"VICTORIA\")"
   ]
  },
  {
   "cell_type": "code",
   "execution_count": null,
   "metadata": {},
   "outputs": [],
   "source": []
  }
 ],
 "metadata": {
  "kernelspec": {
   "display_name": "Python 3",
   "language": "python",
   "name": "python3"
  },
  "language_info": {
   "codemirror_mode": {
    "name": "ipython",
    "version": 3
   },
   "file_extension": ".py",
   "mimetype": "text/x-python",
   "name": "python",
   "nbconvert_exporter": "python",
   "pygments_lexer": "ipython3",
   "version": "3.6.4"
  }
 },
 "nbformat": 4,
 "nbformat_minor": 2
}
